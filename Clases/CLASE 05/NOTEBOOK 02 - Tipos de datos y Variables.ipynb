{
 "cells": [
  {
   "cell_type": "markdown",
   "metadata": {},
   "source": [
    "# NOTEBOOK 02 - Tipos de datos y Variables\n",
    "## Fundamentos de Programación: Tipos de Datos, Variables y Operaciones Básicas\n",
    "### Prof: Ing. Andrés Mena Abarca\n",
    "\n",
    "> ## Nombre del estudiante: Randall Azofeifa Rivera"
   ]
  },
  {
   "cell_type": "markdown",
   "metadata": {},
   "source": [
    "\n",
    "\n",
    "---\n",
    "\n",
    "## 1. Tipos de Datos en Python\n",
    "## **1. Introducción a los Tipos de Datos Básicos**\n",
    "\n",
    "### **Explicación:**\n",
    "En Python, los tipos de datos básicos son los bloques fundamentales para almacenar y manipular información. Estos tipos son:\n",
    "\n",
    "1. **`int` (Enteros):**\n",
    "   - Representan números enteros, positivos o negativos.\n",
    "   - Ejemplos: `5`, `-10`, `1000`.\n",
    "   - No tienen límite de tamaño (dependen de la memoria disponible).\n",
    "\n",
    "2. **`float` (Decimales):**\n",
    "   - Representan números con parte decimal.\n",
    "   - Ejemplos: `3.14`, `-0.001`, `2.0`.\n",
    "   - Se almacenan con una precisión limitada (aproximadamente 15 decimales).\n",
    "\n",
    "3. **`str` (Cadenas de Texto):**\n",
    "   - Representan secuencias de caracteres.\n",
    "   - Se definen entre comillas simples (`'Hola'`) o dobles (`\"Python\"`).\n",
    "   - Son mutables (no se pueden modificar después de crearse).\n",
    "\n",
    "4. **`bool` (Booleanos):**\n",
    "   - Representan valores lógicos: `True` (verdadero) o `False` (falso).\n",
    "   - Se usan en condiciones y operaciones lógicas.\n",
    "\n",
    "### **Práctica:**\n",
    "\n",
    "```python\n",
    "# Declara variables de cada tipo\n",
    "edad = 25  # int\n",
    "altura = 1.75  # float\n",
    "nombre = \"Ana\"  # str\n",
    "es_estudiante = True  # bool\n",
    "\n",
    "# Muestra el tipo de cada variable usando la función type()\n",
    "print(type(edad))  # <class 'int'>\n",
    "print(type(altura))  # <class 'float'>\n",
    "print(type(nombre))  # <class 'str'>\n",
    "print(type(es_estudiante))  # <class 'bool'>\n",
    "\n",
    "## Ejercicios \n",
    "\n",
    "1. Declara una variable de tipo entero y asigna el valor *25*. Luego, imprime su tipo."
   ]
  },
  {
   "cell_type": "code",
   "execution_count": 1,
   "metadata": {},
   "outputs": [
    {
     "name": "stdout",
     "output_type": "stream",
     "text": [
      "<class 'int'>\n"
     ]
    }
   ],
   "source": [
    "#Respuesta..\n",
    "numero_entero = 1015151510510151651051050510\n",
    "print(type(numero_entero))"
   ]
  },
  {
   "cell_type": "markdown",
   "metadata": {},
   "source": [
    "2. Declara una variable de tipo flotante con el valor *3.1416*. Imprime su tipo.\n"
   ]
  },
  {
   "cell_type": "code",
   "execution_count": 3,
   "metadata": {},
   "outputs": [
    {
     "name": "stdout",
     "output_type": "stream",
     "text": [
      "Esto es un numero redondeado 3.141641\n",
      "<class 'decimal.Decimal'>\n"
     ]
    }
   ],
   "source": [
    "#Respuesta\n",
    "from decimal import Decimal,getcontext\n",
    "\n",
    "getcontext().prec = 30\n",
    "\n",
    "\n",
    "pi = Decimal(3.141641187985479658345978222222222222222222222222222222) \n",
    "\n",
    "print(f'Esto es un numero redondeado {pi:.6f}')\n",
    "print(type(pi)) #Respuesta"
   ]
  },
  {
   "cell_type": "markdown",
   "metadata": {},
   "source": [
    "3. Crea una variable es_estudiante que almacene un valor booleano indicando si eres estudiante."
   ]
  },
  {
   "cell_type": "code",
   "execution_count": 1,
   "metadata": {},
   "outputs": [
    {
     "name": "stdout",
     "output_type": "stream",
     "text": [
      "<class 'bool'> True\n"
     ]
    }
   ],
   "source": [
    "#Respuesta\n",
    "es_estudiante = True\n",
    "print(type(es_estudiante), es_estudiante)"
   ]
  },
  {
   "cell_type": "markdown",
   "metadata": {},
   "source": [
    "## 2. Variables en Python\n",
    "\n",
    "### Teoría\n",
    "Las variables son espacios de memoria donde almacenamos datos. En Python, no es necesario declarar el tipo de la variable, simplemente se asigna un valor con el símbolo `=`.\n",
    "\n",
    "#### Reglas para nombrar variables:\n",
    "- Deben comenzar con una letra o un guion bajo.\n",
    "- No pueden comenzar con un número.\n",
    "- Solo pueden contener letras, números y guiones bajos.\n",
    "- Son sensibles a mayúsculas y minúsculas (`nombre` y `Nombre` son diferentes).\n",
    "\n",
    "### Ejemplo"
   ]
  },
  {
   "cell_type": "code",
   "execution_count": null,
   "metadata": {},
   "outputs": [],
   "source": [
    "# Declaración de variables\n",
    "mi_nombre = \"Carlos\"\n",
    "edad = 20\n",
    "\n",
    "# Variables válidas\n",
    "nombre_completo = \"Ana Pérez\"\n",
    "_variable_secreta = 42 # convención para indicar que esa variable es protegida.\n",
    "\n",
    "# Variables inválidas (descomentar para ver los errores)\n",
    "# 2variable = 10  # Error: no puede comenzar con un número\n",
    "# nombre completo = \"Juan\"  # Error: no puede contener espacios"
   ]
  },
  {
   "cell_type": "markdown",
   "metadata": {},
   "source": [
    "## 3. Operaciones Básicas de Entrada y Salida\n",
    "\n",
    "### Teoría\n",
    "Las operaciones de entrada y salida son fundamentales para interactuar con el usuario. En Python, utilizamos la función `input()` para capturar datos del usuario y `print()` para mostrar información en pantalla.\n",
    "\n",
    "### Ejemplos"
   ]
  },
  {
   "cell_type": "code",
   "execution_count": 4,
   "metadata": {},
   "outputs": [
    {
     "name": "stdout",
     "output_type": "stream",
     "text": [
      "¡Hola, mundo!\n",
      "Si el nombre es correcto sas\n"
     ]
    }
   ],
   "source": [
    "# Operación de salida\n",
    "print(\"¡Hola, mundo!\")\n",
    "\n",
    "# Operación de entrada + Salida con format\n",
    "\n",
    "nombre = input(\"Ingresa tu nombre: \")\n",
    "print(f'Si el nombre es correcto {nombre}')"
   ]
  },
  {
   "cell_type": "code",
   "execution_count": 15,
   "metadata": {},
   "outputs": [
    {
     "name": "stdout",
     "output_type": "stream",
     "text": [
      "Hola bienvenido a Python Randall !\n",
      "Fundamentos de Python UMCA 2025\n"
     ]
    }
   ],
   "source": [
    "#definir funciones\n",
    "def saludar(pNombre):\n",
    "    print(f'Hola bienvenido a Python {pNombre} !')\n",
    "    print('Fundamentos de Python UMCA 2025')\n",
    "    \n",
    "nombre = input(\"Ingrese su nombre por favor: \")\n",
    "saludar(nombre)"
   ]
  },
  {
   "cell_type": "markdown",
   "metadata": {},
   "source": [
    "En otros lenguajes, como *Java*, el proceso es similar pero con algunas diferencias en la sintaxis:\n",
    "\n",
    "```Java\n",
    "// Ejemplo en Java\n",
    "import java.util.Scanner;\n",
    "\n",
    "public class EntradaSalida {\n",
    "    public static void main(String[] args) {\n",
    "        Scanner input = new Scanner(System.in);\n",
    "        System.out.print(\"¿Cómo te llamas? \");\n",
    "        String nombre = input.nextLine();\n",
    "        System.out.println(\"Hola, \" + nombre + \"!\");\n",
    "    }\n",
    "}\n",
    "\n",
    "```"
   ]
  },
  {
   "cell_type": "markdown",
   "metadata": {},
   "source": [
    "## 4. Operadores Básicos en Python\n",
    "\n",
    "### Teoría\n",
    "Los operadores en Python nos permiten realizar diversas operaciones con variables y datos. Los más comunes son:\n",
    "\n",
    "- **Operadores matemáticos**: `+`, `-`, `*`, `/`, `//` (división entera), `%` (módulo)\n",
    "- **Operadores de asignación**: `=`, `+=`, `-=`, `*=`, `/=`\n",
    "- **Operadores de comparación**: `==`, `!=`, `<`, `>`, `<=`, `>=`\n",
    "- **Operadores lógicos**: `and`, `or`, `not`\n",
    "\n",
    "### Tabla de Operadores Matemáticos\n",
    "\n",
    "| Operador | Descripción           | Ejemplo           |\n",
    "|----------|-----------------------|-------------------|\n",
    "| `+`      | Suma                  | `5 + 3 = 8`       |\n",
    "| `-`      | Resta                 | `5 - 2 = 3`       |\n",
    "| `*`      | Multiplicación         | `5 * 2 = 10`      |\n",
    "| `/`      | División              | `10 / 2 = 5.0`    |\n",
    "| `//`     | División entera        | `10 // 3 = 3`     |\n",
    "| `%`      | Módulo (resto)         | `10 % 3 = 1`      |\n",
    "\n",
    "### Ejemplos"
   ]
  },
  {
   "cell_type": "markdown",
   "metadata": {},
   "source": [
    "#### Problema 1: Operadores Matemáticos y Comparación en Python\n",
    "\n",
    "Tienes dos variables `a = 10` y `b = 5`. Realiza las siguientes operaciones matemáticas:"
   ]
  },
  {
   "cell_type": "code",
   "execution_count": null,
   "metadata": {},
   "outputs": [
    {
     "name": "stdout",
     "output_type": "stream",
     "text": [
      "El resulta de la suma 10 + 5 = 15\n",
      "El resulta de la resta 10 - 5 = 5\n"
     ]
    }
   ],
   "source": [
    "# Asignacón de variables\n",
    "a = 10\n",
    "b = 5\n",
    "#a,b = 10,5\n",
    "\n",
    "\n",
    "# Suma y resta\n",
    "suma = a + b\n",
    "resta = a - b\n",
    "print(f'El resulta de la suma {a} + {b} = {suma}')\n",
    "print(f'El resulta de la resta {a} - {b} = {resta}')\n"
   ]
  },
  {
   "cell_type": "markdown",
   "metadata": {},
   "source": [
    "#### Práctica:\n",
    "> Función para calcular el área de un círculo:"
   ]
  },
  {
   "cell_type": "code",
   "execution_count": 34,
   "metadata": {},
   "outputs": [
    {
     "name": "stdout",
     "output_type": "stream",
     "text": [
      "El area del circulo con el de 15.0 es : 706.8583470577034\n"
     ]
    }
   ],
   "source": [
    "#Construir función\n",
    "from math import pi\n",
    "\n",
    "def area_circulo(radio=5): #radio=5 indica que es un parametro que es un parametro opcional, por defecto el valor del radio es (5)\n",
    "    resultado = pi * (radio ** 2)\n",
    "    print(f'El area del circulo con el de {radio} es : {resultado}')\n",
    "    \n",
    "radio = float(input('Ingrese el radio del circulo: '))\n",
    "area_circulo(radio)\n",
    "\n",
    "\n"
   ]
  },
  {
   "cell_type": "markdown",
   "metadata": {},
   "source": [
    "#### Problema 2: Comparación de Números\n",
    "Usa los siguientes operadores de comparación para verificar la relación entre a y b. ¿Qué resultado esperas?"
   ]
  },
  {
   "cell_type": "code",
   "execution_count": 5,
   "metadata": {},
   "outputs": [
    {
     "name": "stdout",
     "output_type": "stream",
     "text": [
      "Valor de a: 11 Valor de b: 5\n",
      "False\n",
      "True\n",
      "False\n",
      "True\n"
     ]
    }
   ],
   "source": [
    "#**Operadores de comparación**: `==`, `!=`, `<`, `>`, `<=`, `>=`\n",
    "print('Valor de a:',a,'Valor de b:',b)\n",
    "\n",
    "# ¿Es a igual a b?\n",
    "print(a == b)\n",
    "\n",
    "# ¿Es a mayor que b?\n",
    "print(a > b)\n",
    "\n",
    "# ¿Es a menor que b?\n",
    "print (a < b)\n",
    "\n",
    "# ¿Es a diferente que b?\n",
    "print(a != b) #True"
   ]
  },
  {
   "cell_type": "markdown",
   "metadata": {},
   "source": [
    "### Problema 3: Operadores Lógicos\n",
    "Usa operadores lógicos para combinar condiciones. Resuelve el siguiente problema: ¿Es a mayor que 0 y b menor que 10? \n",
    "\n",
    "- ¿Qué pasa si a = -10?"
   ]
  },
  {
   "cell_type": "code",
   "execution_count": 37,
   "metadata": {},
   "outputs": [
    {
     "name": "stdout",
     "output_type": "stream",
     "text": [
      "False False\n",
      "Inicio de sesion: False\n"
     ]
    }
   ],
   "source": [
    "# Ejemplo: Operador lógico AND (usuario y contraseña)\n",
    "\n",
    "# Datos correctos (simulando una base de datos)\n",
    "usuario_correcto = \"admin\"\n",
    "contraseña_correcta = \"1234\"\n",
    "\n",
    "#Pedir usuario la credenciales\n",
    "\n",
    "usuario = input('Ingrese el usuario por favor: ').lower() == usuario_correcto\n",
    "contraseña = (input('Ingrese la contrasña por favor: ') == contraseña_correcta)\n",
    "\n",
    "print(usuario, contraseña)\n",
    "print('Inicio de sesion:', usuario and contraseña)"
   ]
  },
  {
   "cell_type": "code",
   "execution_count": 4,
   "metadata": {},
   "outputs": [
    {
     "name": "stdout",
     "output_type": "stream",
     "text": [
      "True False\n",
      "Voy al baile😢 True\n"
     ]
    }
   ],
   "source": [
    "#Ejemplo: Operador Logico OR\n",
    "\n",
    "#Preguntar si mama o papa da permiso\n",
    "permiso_mama = (input(\"Mama me da permiso de ir al baile? (si/no)\").upper() =='SI')\n",
    "permiso_papa = (input(\"Papa me da permiso de ir al baile? (si/no)\").lower() =='si')\n",
    "\n",
    "print(permiso_mama, permiso_papa)\n",
    "print('Voy al baile😢', permiso_mama or permiso_papa)"
   ]
  },
  {
   "cell_type": "code",
   "execution_count": null,
   "metadata": {},
   "outputs": [],
   "source": [
    "# Ejemplo: Operador lógico OR\n",
    "\n",
    "# Preguntar si mamá o papá dan permiso"
   ]
  },
  {
   "cell_type": "code",
   "execution_count": 1,
   "metadata": {},
   "outputs": [
    {
     "ename": "NameError",
     "evalue": "name 'a' is not defined",
     "output_type": "error",
     "traceback": [
      "\u001b[1;31m---------------------------------------------------------------------------\u001b[0m",
      "\u001b[1;31mNameError\u001b[0m                                 Traceback (most recent call last)",
      "Cell \u001b[1;32mIn[1], line 7\u001b[0m\n\u001b[0;32m      1\u001b[0m \u001b[38;5;124;03m\"\"\"\u001b[39;00m\n\u001b[0;32m      2\u001b[0m \u001b[38;5;124;03mUsa operadores lógicos para combinar condiciones. Resuelve el siguiente problema: \u001b[39;00m\n\u001b[0;32m      3\u001b[0m \u001b[38;5;124;03m¿Es a mayor que 0 y b menor que 10? \u001b[39;00m\n\u001b[0;32m      4\u001b[0m \n\u001b[0;32m      5\u001b[0m \u001b[38;5;124;03m- ¿Qué pasa si a = -10?\u001b[39;00m\n\u001b[0;32m      6\u001b[0m \u001b[38;5;124;03m\"\"\"\u001b[39;00m\n\u001b[1;32m----> 7\u001b[0m \u001b[38;5;28mprint\u001b[39m(\u001b[38;5;124m'\u001b[39m\u001b[38;5;124mValor a:\u001b[39m\u001b[38;5;124m'\u001b[39m,\u001b[43ma\u001b[49m, \u001b[38;5;124m'\u001b[39m\u001b[38;5;124m   Valor de b:\u001b[39m\u001b[38;5;124m'\u001b[39m,b)\n\u001b[0;32m      8\u001b[0m \u001b[38;5;66;03m# ¿Ambas condiciones son verdaderas?\u001b[39;00m\n\u001b[0;32m      9\u001b[0m \u001b[38;5;28mprint\u001b[39m(\u001b[38;5;124m'\u001b[39m\u001b[38;5;124ma > 0 y b < 10\u001b[39m\u001b[38;5;124m'\u001b[39m,a \u001b[38;5;241m>\u001b[39m \u001b[38;5;241m0\u001b[39m \u001b[38;5;129;01mand\u001b[39;00m b \u001b[38;5;241m<\u001b[39m \u001b[38;5;241m10\u001b[39m)\n",
      "\u001b[1;31mNameError\u001b[0m: name 'a' is not defined"
     ]
    }
   ],
   "source": [
    "\"\"\"\n",
    "Usa operadores lógicos para combinar condiciones. Resuelve el siguiente problema: \n",
    "¿Es a mayor que 0 y b menor que 10? \n",
    "\n",
    "- ¿Qué pasa si a = -10?\n",
    "\"\"\"\n",
    "print('Valor a:',a, '   Valor de b:',b)\n",
    "# ¿Ambas condiciones son verdaderas?\n",
    "print('a > 0 y b < 10',a > 0 and b < 10)\n",
    "\n",
    "# ¿Al menos una de las condiciones es verdadera?\n",
    "a = -10\n",
    "print(f'a > 0 :{a > 0} o b < 10 {b < 10} - Salida Final: ' ,a > 0 or b < 10)\n",
    "\n",
    "#                     Falso\n",
    "# ¿Es falso (que a sea mayor que b)?\n",
    "print(not(a > b))"
   ]
  },
  {
   "cell_type": "markdown",
   "metadata": {},
   "source": [
    "### Problema 4: Divisiones y Módulo\n",
    "Prueba las operaciones de división entera y módulo para ver cómo Python maneja los restos de las divisiones."
   ]
  },
  {
   "cell_type": "code",
   "execution_count": 2,
   "metadata": {},
   "outputs": [
    {
     "name": "stdout",
     "output_type": "stream",
     "text": [
      "Division entera:  2\n",
      "Modulo:  1\n"
     ]
    }
   ],
   "source": [
    "# División entera y módulo\n",
    "a = 11\n",
    "b = 5\n",
    "\n",
    "division_entera = a // b\n",
    "modulo = a % b\n",
    "\n",
    "print('Division entera: ', division_entera)\n",
    "print('Modulo: ', modulo)"
   ]
  },
  {
   "cell_type": "code",
   "execution_count": 45,
   "metadata": {},
   "outputs": [
    {
     "name": "stdout",
     "output_type": "stream",
     "text": [
      "Es un numero par:  False\n"
     ]
    }
   ],
   "source": [
    "# Función para verificar si un número es par\n",
    "def es_par(pnum): \n",
    "    return numero % 2 == 0\n",
    "\n",
    "numero = int(input('Ingrese un numero por favor: '))\n",
    "print('Es un numero par: ' ,es_par(numero))\n"
   ]
  },
  {
   "cell_type": "code",
   "execution_count": null,
   "metadata": {},
   "outputs": [],
   "source": []
  },
  {
   "cell_type": "markdown",
   "metadata": {
    "vscode": {
     "languageId": "powershell"
    }
   },
   "source": [
    "### 5. Conversión entre Tipos de Datos\n",
    "Python permite convertir entre tipos de datos usando funciones como:\n",
    "\n",
    "- `int()`: Convierte a entero.\n",
    "- `float()`: Convierte a decimal.\n",
    "- `str():` Convierte a cadena.\n",
    "- `bool()`: Convierte a booleano."
   ]
  },
  {
   "cell_type": "code",
   "execution_count": 48,
   "metadata": {},
   "outputs": [
    {
     "name": "stdout",
     "output_type": "stream",
     "text": [
      "3 <class 'int'>\n",
      "5.0 <class 'float'>\n",
      "100.5 <class 'str'>\n"
     ]
    }
   ],
   "source": [
    "# Conversión de tipos\n",
    "numero_entero = int(3.14) #Float a entero(trunca los decimales)\n",
    "numero_float = float(5) #entero a flotante\n",
    "cadena_numero = str(100.50) #Flotante a string\n",
    "\n",
    "print(numero_entero, type(numero_entero))\n",
    "print(numero_float, type(numero_float))\n",
    "print(cadena_numero, type(cadena_numero))"
   ]
  },
  {
   "cell_type": "code",
   "execution_count": null,
   "metadata": {
    "vscode": {
     "languageId": "powershell"
    }
   },
   "outputs": [],
   "source": [
    "# Conversión de cadenas a números"
   ]
  },
  {
   "cell_type": "markdown",
   "metadata": {},
   "source": [
    "### Ejercicio Final:\n",
    "\n",
    "Combina operadores matemáticos, de comparación y lógicos. Escribe un programa que pida al usuario dos números y realice las siguientes tareas:\n",
    "\n",
    "1. Verifique si el primer número es mayor que el segundo.\n",
    "2. Calcule la suma, resta, división y módulo de ambos.\n",
    "3. Determine si la suma de ambos números es mayor que 20 **y** si alguno de los dos es menor que 5."
   ]
  },
  {
   "cell_type": "code",
   "execution_count": null,
   "metadata": {},
   "outputs": [],
   "source": [
    "#Respuesta\n",
    "\n",
    "https://github.com/amenaaUMCA/2025C1-G01-FUNDAMENTOS-DE-PYTHON/blob/main/Prof.%20Andr%C3%A9s%20Mena/Clase%2005/NOTEBOOK%2002%20-%20Tipos%20de%20datos%20y%20Variables.ipynb\n"
   ]
  }
 ],
 "metadata": {
  "kernelspec": {
   "display_name": "Python 3",
   "language": "python",
   "name": "python3"
  },
  "language_info": {
   "codemirror_mode": {
    "name": "ipython",
    "version": 3
   },
   "file_extension": ".py",
   "mimetype": "text/x-python",
   "name": "python",
   "nbconvert_exporter": "python",
   "pygments_lexer": "ipython3",
   "version": "3.13.2"
  }
 },
 "nbformat": 4,
 "nbformat_minor": 2
}
